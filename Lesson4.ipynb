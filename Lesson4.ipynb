{
 "cells": [
  {
   "cell_type": "markdown",
   "id": "47a3bc29",
   "metadata": {},
   "source": [
    "#### 1. Развернуть у себя на компьютере/виртуальной машине/хостинге MongoDB и реализовать функцию, которая будет добавлять только новые вакансии/продукты в вашу базу."
   ]
  },
  {
   "cell_type": "code",
   "execution_count": 10,
   "id": "5ab0787c",
   "metadata": {},
   "outputs": [],
   "source": [
    "from bs4 import BeautifulSoup as bs\n",
    "import requests\n",
    "from pprint import pprint"
   ]
  },
  {
   "cell_type": "code",
   "execution_count": 11,
   "id": "e5646136",
   "metadata": {},
   "outputs": [],
   "source": [
    "url = 'https://spb.hh.ru'\n",
    "\n",
    "headers = {'User-Agent': 'Mozilla/5.0 (Windows NT 10.0; Win64; x64) AppleWebKit/537.36 (KHTML, like Gecko)' \n",
    "           'Chrome/96.0.4664.93 Safari/537.36'\n",
    "          }\n",
    "page = 0\n",
    "last_page = 1\n",
    "vacancy_text = 'analyst'\n",
    "params = {\n",
    "    'text': vacancy_text,\n",
    "    'page': page\n",
    "}"
   ]
  },
  {
   "cell_type": "code",
   "execution_count": 12,
   "id": "8598f15d",
   "metadata": {},
   "outputs": [],
   "source": [
    "vacancies_info = []\n",
    "page = 0\n",
    "while page < last_page:\n",
    "    \n",
    "        response = requests.get(url+'/vacancies/analyst',params=params,headers=headers)\n",
    "        \n",
    "        if response.ok:\n",
    "            soup = bs(response.text, 'html.parser')\n",
    "            vacancies = soup.find_all('div', {'class': ['vacancy-serp-item-body__main-info']})\n",
    "    \n",
    "            for vacancy in vacancies:\n",
    "                vacancy_info = {}\n",
    "\n",
    "                info = vacancy.find('a', {'data-qa': 'serp-item__title'})\n",
    "                name = info.text\n",
    "                \n",
    "                link = info.get('href')\n",
    "                min_salary = None\n",
    "                max_salary = None\n",
    "                currency = None\n",
    "\n",
    "                try:\n",
    "                    salary = vacancy.find('span', {'data-qa': 'vacancy-serp__vacancy-compensation'}).text\n",
    "                    data = salary.replace('\\u202f', '').split()\n",
    "\n",
    "                    if data[0] == 'от':\n",
    "                        min_salary = int(data[1])\n",
    "                        max_salary = None\n",
    "\n",
    "                    elif data[0] == 'до':\n",
    "                        min_salary = None\n",
    "                        max_salary = int(data[1])\n",
    "\n",
    "                    else:\n",
    "                        min_salary = int(data[0])\n",
    "                        max_salary = int(data[2])\n",
    "                    currency = data[-1]\n",
    "\n",
    "                except:\n",
    "                    min_price = None\n",
    "                    max_price = None\n",
    "                    currency = None\n",
    "\n",
    "                vacancy_info['source'] = url\n",
    "                vacancy_info['name'] = name\n",
    "                vacancy_info['link'] = link\n",
    "                vacancy_info['min_price'] = min_salary\n",
    "                vacancy_info['max_price'] = max_salary\n",
    "                vacancy_info['currency'] = currency\n",
    "\n",
    "                vacancies_info.append(vacancy_info)\n",
    "\n",
    "            page += 1\n",
    "\n",
    "            count = soup.find_all('a', {'class': 'bloko-button'})\n",
    "            last_page = int(count[-2].text)\n",
    "\n",
    "        else:\n",
    "            break"
   ]
  },
  {
   "cell_type": "code",
   "execution_count": null,
   "id": "19a8dbf4",
   "metadata": {},
   "outputs": [],
   "source": [
    "# pprint(vacancies_info)"
   ]
  },
  {
   "cell_type": "code",
   "execution_count": 13,
   "id": "3d552fd2",
   "metadata": {},
   "outputs": [
    {
     "data": {
      "text/plain": [
       "2032"
      ]
     },
     "execution_count": 13,
     "metadata": {},
     "output_type": "execute_result"
    }
   ],
   "source": [
    "len(vacancies_info)"
   ]
  },
  {
   "cell_type": "code",
   "execution_count": 14,
   "id": "5e98a359",
   "metadata": {},
   "outputs": [
    {
     "name": "stdout",
     "output_type": "stream",
     "text": [
      "Collecting package metadata (current_repodata.json): ...working... done\n",
      "Note: you may need to restart the kernel to use updated packages.\n",
      "\n",
      "Solving environment: ...working... done\n",
      "\n",
      "# All requested packages already installed.\n",
      "\n",
      "Retrieving notices: ...working... done\n"
     ]
    }
   ],
   "source": [
    "conda install pymongo"
   ]
  },
  {
   "cell_type": "code",
   "execution_count": 15,
   "id": "50d8cf4f",
   "metadata": {},
   "outputs": [],
   "source": [
    "from pymongo import MongoClient"
   ]
  },
  {
   "cell_type": "code",
   "execution_count": 16,
   "id": "6e76bf69",
   "metadata": {},
   "outputs": [],
   "source": [
    "client = MongoClient('127.0.0.1', 27017)"
   ]
  },
  {
   "cell_type": "code",
   "execution_count": 32,
   "id": "89e2a32b",
   "metadata": {},
   "outputs": [],
   "source": [
    "db = client['vacancies_hh']"
   ]
  },
  {
   "cell_type": "code",
   "execution_count": 33,
   "id": "0e8d0d64",
   "metadata": {},
   "outputs": [],
   "source": [
    "collection_vacancies_hh = db.collection_vacancies_hh"
   ]
  },
  {
   "cell_type": "code",
   "execution_count": 34,
   "id": "987e44d2",
   "metadata": {},
   "outputs": [],
   "source": [
    "def check_vacancies(vacancies):\n",
    "  for vacancy in vacancies:\n",
    "    if not len(list(collection_vacancies_hh.find({'link': vacancy['link']}))):\n",
    "      collection_vacancies_hh.insert_one(vacancy)"
   ]
  },
  {
   "cell_type": "code",
   "execution_count": 35,
   "id": "6c7c91ee",
   "metadata": {},
   "outputs": [],
   "source": [
    "check_vacancies(vacancies_info)"
   ]
  },
  {
   "cell_type": "code",
   "execution_count": 36,
   "id": "98cb64bd",
   "metadata": {},
   "outputs": [],
   "source": [
    "vacancies_info_new = list(collection_vacancies_hh.find())"
   ]
  },
  {
   "cell_type": "code",
   "execution_count": 37,
   "id": "af78de55",
   "metadata": {},
   "outputs": [
    {
     "data": {
      "text/plain": [
       "59"
      ]
     },
     "execution_count": 37,
     "metadata": {},
     "output_type": "execute_result"
    }
   ],
   "source": [
    "len(vacancies_info_new)"
   ]
  },
  {
   "cell_type": "markdown",
   "id": "8416999f",
   "metadata": {},
   "source": []
  }
 ],
 "metadata": {
  "kernelspec": {
   "display_name": "Python 3 (ipykernel)",
   "language": "python",
   "name": "python3"
  },
  "language_info": {
   "codemirror_mode": {
    "name": "ipython",
    "version": 3
   },
   "file_extension": ".py",
   "mimetype": "text/x-python",
   "name": "python",
   "nbconvert_exporter": "python",
   "pygments_lexer": "ipython3",
   "version": "3.9.7"
  }
 },
 "nbformat": 4,
 "nbformat_minor": 5
}
